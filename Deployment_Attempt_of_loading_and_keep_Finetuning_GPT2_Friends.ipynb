{
  "nbformat": 4,
  "nbformat_minor": 0,
  "metadata": {
    "colab": {
      "name": "Deployment Attempt of loading and keep Finetuning_GPT2_Friends.ipynb",
      "provenance": [],
      "collapsed_sections": [],
      "toc_visible": true,
      "machine_shape": "hm",
      "authorship_tag": "ABX9TyP/3tvYSyA3MP9iOxfY7e0Z",
      "include_colab_link": true
    },
    "kernelspec": {
      "display_name": "Python 3",
      "name": "python3"
    },
    "language_info": {
      "name": "python"
    },
    "accelerator": "TPU"
  },
  "cells": [
    {
      "cell_type": "markdown",
      "metadata": {
        "id": "view-in-github",
        "colab_type": "text"
      },
      "source": [
        "<a href=\"https://colab.research.google.com/github/zymoide/hosted-hello-world/blob/main/Deployment_Attempt_of_loading_and_keep_Finetuning_GPT2_Friends.ipynb\" target=\"_parent\"><img src=\"https://colab.research.google.com/assets/colab-badge.svg\" alt=\"Open In Colab\"/></a>"
      ]
    },
    {
      "cell_type": "code",
      "metadata": {
        "colab": {
          "base_uri": "https://localhost:8080/"
        },
        "id": "qxeFueoOt7yX",
        "outputId": "8d645d26-eade-41f5-a768-14dff88a6753"
      },
      "source": [
        "%tensorflow_version 1.x\n",
        "!pip install gpt-2-simple\n",
        "import gpt_2_simple as gpt2"
      ],
      "execution_count": 1,
      "outputs": [
        {
          "output_type": "stream",
          "text": [
            "TensorFlow 1.x selected.\n",
            "Collecting gpt-2-simple\n",
            "  Downloading https://files.pythonhosted.org/packages/e8/c9/44fe420225244ab9e3f2938a1d11651681078cf72f7444c66d0ea49f1320/gpt_2_simple-0.7.2.tar.gz\n",
            "Requirement already satisfied: regex in /usr/local/lib/python3.7/dist-packages (from gpt-2-simple) (2019.12.20)\n",
            "Requirement already satisfied: requests in /usr/local/lib/python3.7/dist-packages (from gpt-2-simple) (2.23.0)\n",
            "Requirement already satisfied: tqdm in /usr/local/lib/python3.7/dist-packages (from gpt-2-simple) (4.41.1)\n",
            "Requirement already satisfied: numpy in /usr/local/lib/python3.7/dist-packages (from gpt-2-simple) (1.19.5)\n",
            "Collecting toposort\n",
            "  Downloading https://files.pythonhosted.org/packages/f2/7d/55784e894ee0cde2474fb977ffd1651e74e840a9f92e1d847f7e3115d5ec/toposort-1.6-py2.py3-none-any.whl\n",
            "Requirement already satisfied: idna<3,>=2.5 in /usr/local/lib/python3.7/dist-packages (from requests->gpt-2-simple) (2.10)\n",
            "Requirement already satisfied: chardet<4,>=3.0.2 in /usr/local/lib/python3.7/dist-packages (from requests->gpt-2-simple) (3.0.4)\n",
            "Requirement already satisfied: urllib3!=1.25.0,!=1.25.1,<1.26,>=1.21.1 in /usr/local/lib/python3.7/dist-packages (from requests->gpt-2-simple) (1.24.3)\n",
            "Requirement already satisfied: certifi>=2017.4.17 in /usr/local/lib/python3.7/dist-packages (from requests->gpt-2-simple) (2020.12.5)\n",
            "Building wheels for collected packages: gpt-2-simple\n",
            "  Building wheel for gpt-2-simple (setup.py) ... \u001b[?25l\u001b[?25hdone\n",
            "  Created wheel for gpt-2-simple: filename=gpt_2_simple-0.7.2-cp37-none-any.whl size=23621 sha256=2511185627dd2b085ef8272c3a054a186a2e7d8dddc91948b6443b05431c07d6\n",
            "  Stored in directory: /root/.cache/pip/wheels/68/1d/15/c87a4302a6c7273ce1b4f282bec3c6877fb2f521535d87d30f\n",
            "Successfully built gpt-2-simple\n",
            "Installing collected packages: toposort, gpt-2-simple\n",
            "Successfully installed gpt-2-simple-0.7.2 toposort-1.6\n",
            "WARNING:tensorflow:\n",
            "The TensorFlow contrib module will not be included in TensorFlow 2.0.\n",
            "For more information, please see:\n",
            "  * https://github.com/tensorflow/community/blob/master/rfcs/20180907-contrib-sunset.md\n",
            "  * https://github.com/tensorflow/addons\n",
            "  * https://github.com/tensorflow/io (for I/O related ops)\n",
            "If you depend on functionality not listed there, please file an issue.\n",
            "\n"
          ],
          "name": "stdout"
        }
      ]
    },
    {
      "cell_type": "code",
      "metadata": {
        "colab": {
          "base_uri": "https://localhost:8080/"
        },
        "id": "6-6sFVmyVjyf",
        "outputId": "54f7e44c-903a-44d5-e36d-9a3b1780e4c0"
      },
      "source": [
        "#trying to load the saved model\n",
        "from google.colab import drive\n",
        "drive.mount('/content/drive')"
      ],
      "execution_count": 2,
      "outputs": [
        {
          "output_type": "stream",
          "text": [
            "Mounted at /content/drive\n"
          ],
          "name": "stdout"
        }
      ]
    },
    {
      "cell_type": "code",
      "metadata": {
        "colab": {
          "base_uri": "https://localhost:8080/"
        },
        "id": "9Q3hED_Lm5a-",
        "outputId": "c8d337b3-10fb-43a2-eae0-436ae9ace7d3"
      },
      "source": [
        "#!git clone https://github.com/full-stack-deep-learning/fsdl-text-recognizer-2021-labs\n",
        "!git clone https://github.com/zymoide/hosted-hello-world"
      ],
      "execution_count": 3,
      "outputs": [
        {
          "output_type": "stream",
          "text": [
            "Cloning into 'hosted-hello-world'...\n",
            "remote: Enumerating objects: 15, done.\u001b[K\n",
            "remote: Counting objects: 100% (15/15), done.\u001b[K\n",
            "remote: Compressing objects: 100% (12/12), done.\u001b[K\n",
            "remote: Total 15 (delta 3), reused 0 (delta 0), pack-reused 0\u001b[K\n",
            "Unpacking objects: 100% (15/15), done.\n"
          ],
          "name": "stdout"
        }
      ]
    },
    {
      "cell_type": "code",
      "metadata": {
        "colab": {
          "base_uri": "https://localhost:8080/",
          "height": 297
        },
        "id": "R_w2Xf-mnh9P",
        "outputId": "6859175f-b86b-4563-bf96-0144f31bcc57"
      },
      "source": [
        "from launch import hello "
      ],
      "execution_count": 4,
      "outputs": [
        {
          "output_type": "error",
          "ename": "ModuleNotFoundError",
          "evalue": "ignored",
          "traceback": [
            "\u001b[0;31m---------------------------------------------------------------------------\u001b[0m",
            "\u001b[0;31mModuleNotFoundError\u001b[0m                       Traceback (most recent call last)",
            "\u001b[0;32m<ipython-input-4-210b55c1cc11>\u001b[0m in \u001b[0;36m<module>\u001b[0;34m()\u001b[0m\n\u001b[0;32m----> 1\u001b[0;31m \u001b[0;32mfrom\u001b[0m \u001b[0mlaunch\u001b[0m \u001b[0;32mimport\u001b[0m \u001b[0mhello\u001b[0m\u001b[0;34m\u001b[0m\u001b[0;34m\u001b[0m\u001b[0m\n\u001b[0m",
            "\u001b[0;31mModuleNotFoundError\u001b[0m: No module named 'launch'",
            "",
            "\u001b[0;31m---------------------------------------------------------------------------\u001b[0;32m\nNOTE: If your import is failing due to a missing package, you can\nmanually install dependencies using either !pip or !apt.\n\nTo view examples of installing some common dependencies, click the\n\"Open Examples\" button below.\n\u001b[0;31m---------------------------------------------------------------------------\u001b[0m\n"
          ]
        }
      ]
    },
    {
      "cell_type": "code",
      "metadata": {
        "id": "oBzH8awAniER"
      },
      "source": [
        ""
      ],
      "execution_count": null,
      "outputs": []
    },
    {
      "cell_type": "code",
      "metadata": {
        "id": "XfNGaNI9VzpH"
      },
      "source": [
        "sess = gpt2.start_tf_sess()\n"
      ],
      "execution_count": null,
      "outputs": []
    },
    {
      "cell_type": "markdown",
      "metadata": {
        "id": "8x34KpXUnJiK"
      },
      "source": [
        "# New Section"
      ]
    },
    {
      "cell_type": "code",
      "metadata": {
        "id": "icmnLVXVYw-M"
      },
      "source": [
        "#!cp -r /content/drive/MyDrive/GPT2_Project/checkpoint/run1* /content/drive/MyDrive/GPT2_Project/models/124M\n"
      ],
      "execution_count": null,
      "outputs": []
    },
    {
      "cell_type": "code",
      "metadata": {
        "colab": {
          "base_uri": "https://localhost:8080/"
        },
        "id": "TLc-3h3pWwNF",
        "outputId": "e2f83ab3-455e-4d9e-c6f1-560da4252c9d"
      },
      "source": [
        "#load only if you want to generate text! if you want to keep on training model -skip this cell!\n",
        "gpt2.load_gpt2(sess,checkpoint_dir='/content/drive/MyDrive/GPT2_Project/checkpoint',model_dir='/content/drive/MyDrive/GPT2_Project/models')\n",
        "\n",
        "#def load_gpt2(sess, checkpoint='latest', run_name='run1', checkpoint_dir='checkpoint', model_name=None, model_dir='models', multi_gpu=False)"
      ],
      "execution_count": null,
      "outputs": [
        {
          "output_type": "stream",
          "text": [
            "Loading checkpoint /content/drive/MyDrive/GPT2_Project/checkpoint/run1/model-6800\n",
            "INFO:tensorflow:Restoring parameters from /content/drive/MyDrive/GPT2_Project/checkpoint/run1/model-6800\n"
          ],
          "name": "stdout"
        }
      ]
    },
    {
      "cell_type": "code",
      "metadata": {
        "id": "xoaYqMsHqcyR"
      },
      "source": [
        ""
      ],
      "execution_count": null,
      "outputs": []
    },
    {
      "cell_type": "code",
      "metadata": {
        "colab": {
          "base_uri": "https://localhost:8080/"
        },
        "id": "kpfdWUb2t986",
        "outputId": "ca398970-7fca-4bb1-9719-d56acf0b01d7"
      },
      "source": [
        "gpt2.download_gpt2(model_name=\"124M\")"
      ],
      "execution_count": null,
      "outputs": [
        {
          "output_type": "stream",
          "text": [
            "Fetching checkpoint: 1.05Mit [00:00, 517Mit/s]                                                      \n",
            "Fetching encoder.json: 1.05Mit [00:00, 4.86Mit/s]\n",
            "Fetching hparams.json: 1.05Mit [00:00, 636Mit/s]                                                    \n",
            "Fetching model.ckpt.data-00000-of-00001: 498Mit [00:17, 28.9Mit/s]                                  \n",
            "Fetching model.ckpt.index: 1.05Mit [00:00, 580Mit/s]                                                \n",
            "Fetching model.ckpt.meta: 1.05Mit [00:00, 6.14Mit/s]\n",
            "Fetching vocab.bpe: 1.05Mit [00:00, 8.44Mit/s]\n"
          ],
          "name": "stderr"
        }
      ]
    },
    {
      "cell_type": "code",
      "metadata": {
        "id": "5TdONXrguFfo"
      },
      "source": [
        "file_name = '/content/drive/MyDrive/GPT2_Project/Friends_Transcript.txt'"
      ],
      "execution_count": null,
      "outputs": []
    },
    {
      "cell_type": "code",
      "metadata": {
        "colab": {
          "base_uri": "https://localhost:8080/",
          "height": 35
        },
        "id": "XkD2aEHYwYPo",
        "outputId": "c193ff69-f77d-4aa8-c2c3-f40ce2ea1194"
      },
      "source": [
        "file_name"
      ],
      "execution_count": null,
      "outputs": [
        {
          "output_type": "execute_result",
          "data": {
            "application/vnd.google.colaboratory.intrinsic+json": {
              "type": "string"
            },
            "text/plain": [
              "'/content/drive/MyDrive/GPT2_Project/Friends_Transcript.txt'"
            ]
          },
          "metadata": {
            "tags": []
          },
          "execution_count": 29
        }
      ]
    },
    {
      "cell_type": "code",
      "metadata": {
        "colab": {
          "base_uri": "https://localhost:8080/"
        },
        "id": "hgelFw-JukcC",
        "outputId": "a3a5c7ba-5559-4976-aa42-363e7a787e58"
      },
      "source": [
        "#the code for keep on trainig the current model that is stored on the drive:\n",
        "gpt2.finetune(sess,\n",
        "              dataset=file_name,\n",
        "              model_name='124M',\n",
        "              model_dir='/content/drive/MyDrive/GPT2_Project/models',\n",
        "              steps=2000,\n",
        "              restore_from='latest',\n",
        "              run_name='run1',\n",
        "              print_every=100,\n",
        "              checkpoint_dir='/content/drive/MyDrive/GPT2_Project/checkpoint',\n",
        "              sample_every=500,\n",
        "              save_every=200,\n",
        "              overwrite=True\n",
        "              )\n",
        "\n",
        "# def finetune(sess, dataset, steps=-1, model_name='124M', model_dir='models', combine=50000, batch_size=1, \n",
        "#              learning_rate=0.0001, accumulate_gradients=5, restore_from='latest', run_name='run1',\n",
        "#              checkpoint_dir='checkpoint', sample_every=100, sample_length=1023, sample_num=1, multi_gpu=False, \n",
        "#              save_every=1000, print_every=1, max_checkpoints=1, use_memory_saving_gradients=False, \n",
        "#              only_train_transformer_layers=False, optimizer='adam', overwrite=False)"
      ],
      "execution_count": null,
      "outputs": [
        {
          "output_type": "stream",
          "text": [
            "WARNING:tensorflow:From /usr/local/lib/python3.7/dist-packages/gpt_2_simple/src/sample.py:17: where (from tensorflow.python.ops.array_ops) is deprecated and will be removed in a future version.\n",
            "Instructions for updating:\n",
            "Use tf.where in 2.0, which has the same broadcast rule as np.where\n",
            "Loading checkpoint /content/drive/MyDrive/GPT2_Project/checkpoint/run1/model-4800\n",
            "INFO:tensorflow:Restoring parameters from /content/drive/MyDrive/GPT2_Project/checkpoint/run1/model-4800\n"
          ],
          "name": "stdout"
        },
        {
          "output_type": "stream",
          "text": [
            "\r  0%|          | 0/1 [00:00<?, ?it/s]"
          ],
          "name": "stderr"
        },
        {
          "output_type": "stream",
          "text": [
            "Loading dataset...\n"
          ],
          "name": "stdout"
        },
        {
          "output_type": "stream",
          "text": [
            "100%|██████████| 1/1 [00:08<00:00,  8.30s/it]\n"
          ],
          "name": "stderr"
        },
        {
          "output_type": "stream",
          "text": [
            "dataset has 1428868 tokens\n",
            "Training...\n",
            "Saving /content/drive/MyDrive/GPT2_Project/checkpoint/run1/model-4800\n",
            "Saving /content/drive/MyDrive/GPT2_Project/checkpoint/run1/model-4800\n",
            "[4900 | 1577.84] loss=0.29 avg=0.29\n",
            "[5000 | 3170.52] loss=0.24 avg=0.27\n",
            "Saving /content/drive/MyDrive/GPT2_Project/checkpoint/run1/model-5000\n",
            "WARNING:tensorflow:From /tensorflow-1.15.2/python3.7/tensorflow_core/python/training/saver.py:963: remove_checkpoint (from tensorflow.python.training.checkpoint_management) is deprecated and will be removed in a future version.\n",
            "Instructions for updating:\n",
            "Use standard file APIs to delete files with this prefix.\n",
            "======== SAMPLE 1 ========\n",
            " in Oh I-I did not, I did not tell her. And besides, shes never gonna have another.)\n",
            "Monica: (on phone) Hi Ross? Its Monica.\n",
            "Ross: Yeah, oh hey. Hows the music?\n",
            "Monica: The arrangements by My Little Invisibjus.\n",
            "Ross: (entering) Hey. Yeah, I just finished playing Toblerone the right way, thank you all for coming.\n",
            "Monica: Rach!\n",
            "Rachel: Yeah!\n",
            "Ross: And then I went over to the plane, had a bite to eat, and then I just talked to the captain.\n",
            "Rachel: Yeah, it was actually really good! He was telling me about all that stuff about the Princesses.\n",
            "Ross: Oh, yeah. But then he said she needed to talk with the press, so I went in as Emma the princess.\n",
            "Rachel: Hey! Well, I got my question.\n",
            "Monica: Yes, you needed that stuff\n",
            "Ross: Yeah.\n",
            "Monica: All right, we got an extra ticket, extra ticket. Now, I dont get it, (To Chandler) theres an extra ticket for Emma, do you think anyone else is gonna be paying for those seats?\n",
            "Rachel: All right, youre taking care of your own (points to Monica and Rosss car) \n",
            "Ross: There is no extra bus customer.\n",
            "[Cut to Joey and Janine at their table.]\n",
            "Joey: So, which ones lucky?\n",
            "Janine: Were gonna go on this date.\n",
            "Joey: Thats what I was gonna ask.\n",
            "Janine: Yeah?\n",
            "Joey: Give us an idea.\n",
            "Janine: Ill ask her first.\n",
            "Joey: Okay, listen uh, for those of you who dont know what a princess is, you should probably not go with him.\n",
            "Janine: Oh no, not that. Im sorry. Im a girl.\n",
            "Joey: Really? Like you just did. (To Janine) Its like youre a girl who just happens to be in a guy's office. (Hides his face.) All right, well maybe I can convince you otherwise.\n",
            "[Cut to the delivery man.]\n",
            "Frank: Hi, theres uh, Rachel in her room. We should just uh, we should see where shes going.\n",
            "Dead man: (to himself) Whos next? (Deadly cheers.)\n",
            "Frank: Thats good. Alright I wanna give you a hint, why is there a picture of Rachel in my office?\n",
            "Joey: Oh, do you like that picture?\n",
            "Dead Man: Yeah.\n",
            "Joey: Thanks man.\n",
            "Frank: Okay, before you do that, we need to know something. I mean how are you doing this?\n",
            "Joey: Wow! I was worried that this was going to be a hard time.\n",
            "Frank: Oh, well okay, youre doing great. Youre doing great. Throw caution to the wind. (He pinches Rachels butt and starts finger-pointing at her.)\n",
            "Joey: Ahhh.\n",
            "Dead Man: I think youre about ready to have some nudes.\n",
            "Rachel: (stopping him) Oh no-no-no-no, no-no, wait RACHEL, I dont care! Im not going home any moment now! Im leaving today! I just came from work! Oh, but I wanted to give you some caution, because like, its early people. \n",
            "Frank: Hey! Well, cant they be late today?\n",
            "Rachel: (loudly) I know!!\n",
            "Frank: Rach, come on! Look umm, I think I need to take off.\n",
            "Rachel: (sniffling) Oh, what do you mean, take off?!\n",
            "Frank: Rach, could you relax for a second?\n",
            "Rachel: Okay.\n",
            "Frank: Just-just leave yourself some alone time.\n",
            "Rachel: (laughs) Okay.\n",
            "(Frank leaves.)\n",
            "Rachel: Wow! So, a real treat for Ross and Emily, huh? I hope he lets me get started on the nudes! (Sits down next to her on the couch.)\n",
            "Frank: Hey, how ya doin?\n",
            "Rachel: Aw, its makin me nervous. Yknow? Like when I was in high school and I wouldnt stand any of the naked girls up, so theyd come to me and pony up to everything and then when Im done with it, theyre just gonna see me.\n",
            "Frank: So where did you study?\n",
            "Rachel: Uh, It was ah, my twin.\n",
            "Frank: Right. (Sits down next to her.)\n",
            "Rachel: Ohhh, I mean a fine college twin study.\n",
            "(They both casually clink drinks. Rachel finishes.)\n",
            "Frank: So, my major is uh, geology.\n",
            "Rachel\n",
            "\n",
            "[5100 | 4795.37] loss=0.23 avg=0.25\n",
            "[5200 | 6345.99] loss=0.22 avg=0.25\n",
            "Saving /content/drive/MyDrive/GPT2_Project/checkpoint/run1/model-5200\n",
            "[5300 | 7888.09] loss=0.19 avg=0.23\n",
            "[5400 | 9421.11] loss=0.20 avg=0.23\n",
            "Saving /content/drive/MyDrive/GPT2_Project/checkpoint/run1/model-5400\n",
            "[5500 | 10991.06] loss=0.28 avg=0.23\n",
            "======== SAMPLE 1 ========\n",
            ", and she just... she's just so sexy and she's intelligent and she's funny.\n",
            "Monica: You guys, my doctoral students are never going to be together. Why can't we just get some pizza and put it on the cake?\n",
            "Joey: You know what? We are never going to happen any of these things.\n",
            "Chandler: Really? They're great ideas! Chandler, pizza! Birthday cake! Halloween candy! (does a rock upside down and starts to contemplate the dead fish) Maybe we can make a fire!\n",
            "Phoebe: Rach, are you seriously considering moving?\n",
            "Rachel: Yes. But I'm moving! I'm doing this morning clunkier stuff than some babies with giant ciphered dinosaur heads. I mean, when I was a baby, my mom gave me this grant. It granted me partial access to all of the normal parts of the house, like access that short, shortance-of-brilliance that makes up half the entire house. Now, my babys invited me to a game room, and it wasnt long after the babys coming back that I learned all I could from it.\n",
            "Phoebe: So?\n",
            "Rachel: She actually thought it was unfair that the other house.\n",
            "Phoebe: Well, y'know partial access wouldve been a lot more appropriate.\n",
            "Rachel: Phoebe, I think partial access would always have been a problem. I mean my room isnt big enough for four people.\n",
            "Phoebe: That is the problem here. You want access to our entire room, dont you want to take advantage of it?\n",
            "Rachel: Look, dont think of us as people.\n",
            "[Scene: Monica and Chandler's apartment. They are now fighting over their apartment.]\n",
            "Monica: (coming back from the bathroom) They cant remove the stain! It did! It covers it! (She points at the stain.) Whoa! One tile down! One tile up! \n",
            "Chandler: They seem so happy to do this!\n",
            "[Scene: Their teacher, Dr. Franzblau, is on the video-phone.]\n",
            "Dr. Franzblau: Hello, Phoebe. Listen, Ive got a little something for you. (He speaks to the class.)\n",
            "Phoebe: It-its amazing! Its incredible! I mean, the-the world is your oyster!\n",
            "Dr. Franzblau: Its great. Its oyster, is now your big deal!\n",
            "(The class jumps up excitedly, and a wave crashes into the window, and disgusts Joey.)\n",
            "Joey: What is it?!\n",
            "Dr. Franzblau: Its your scotch!\n",
            "Joey: It is scotch!\n",
            "Dr. Franzblau: Its cool! Joey can still hear the doctor!\n",
            "Joey: Yeah, Im pretty sure I heard that:) (to his class) A-B-I!!! (steps magazine inhand for good measure) (to the class) A-A-B-I!!! (storms out)\n",
            "[Scene: Central Perk, Monica is still ignoring Mike.]\n",
            "Monica: So he has a paleontologist on his short list for the first class. \n",
            "Phoebe: He probably has a French or a Paleontology or a 'How To Do It' (Mike walks in) You are not supposed to show any of those people around too.\n",
            "Monica: Do you have any Perotian or Colonial Colonialist items?\n",
            "Phoebe: Excuse me, how come?\n",
            "Mike: French Colonialists.\n",
            "Monica: Yeah, we read about them in Colonial times.\n",
            "Mike: We are not supposed to eat their food!\n",
            "Monica: To our faces.\n",
            "Phoebe: So, anyway, my friend Chandler got us a Joshua. Does this sound like a Tribbian?\n",
            "Monica: No. No. I really think it should be.\n",
            "Phoebe: Do you think it would be OK if I, you know, planted thorns from a fallen apple?\n",
            "Mike: Such a job, huh? \n",
            "Monica: Sure.\n",
            "Mike: Plus, it's kinda hard being the father.\n",
            "Phoebe: Well, what are you gonna grow up to?\n",
            "Monica: Monica, I'm sorry you feel differently. I, I really think we should be supportive of each other.\n",
            "Mike: You know, I guess I'm just this little girl who plays hard to her babies. \n",
            "Monica: Your God! Her God, what a great guy!\n",
            "Mike: Yeah, well you're just this really great guy, you know. And the kids are really, really great. And you're gonna meet a lot of people who, who are, who are, you know. And you're gonna meet a lot of people who are, who are, who are just\n",
            "\n",
            "[5600 | 12661.91] loss=0.20 avg=0.23\n",
            "Saving /content/drive/MyDrive/GPT2_Project/checkpoint/run1/model-5600\n",
            "[5700 | 14246.99] loss=0.17 avg=0.22\n",
            "[5800 | 15821.30] loss=0.15 avg=0.22\n",
            "Saving /content/drive/MyDrive/GPT2_Project/checkpoint/run1/model-5800\n",
            "[5900 | 17391.77] loss=0.18 avg=0.21\n",
            "[6000 | 18949.78] loss=0.13 avg=0.21\n",
            "Saving /content/drive/MyDrive/GPT2_Project/checkpoint/run1/model-6000\n",
            "======== SAMPLE 1 ========\n",
            " This and I don't wanna have to drop it?\n",
            "Monica: No!\n",
            "Rachel: And that just means it's on the altar!\n",
            "Monica: Fine! Do the short stuff.\n",
            "(Phoebe joins in on the cute pouting.)\n",
            "Phoebe: Im faking out, y'know? Okay, Im sorry, I dont understand. (looking over at Monica) Why did you drop the bat?\n",
            "Monica: Because I was trying to drop a book!\n",
            "Phoebe: What was wrong with your bat?\n",
            "Chandler: I dont want to touch a book!\n",
            "Monica: Well drop it, drop it, drop it!!\n",
            "Chandler: Wait no, you have to try! Come on, it doesnt mean anything! I am still a woman!!!\n",
            "Monica: Oh really, it does mean anything?\n",
            "Chandler: Yeah!!\n",
            "Phoebe: Youre saying that, because Rachel is still a woman?\n",
            "Chandler: I can only assume shes still a woman.\n",
            "Monica: Phoebe, youre crazy! I mean, just because shes a woman doesnt mean shes a machine!!\n",
            "Phoebe: I know!! I know!! I am still a woman!!\n",
            "Rachel: Phoebe, do you want me to take one moment and tell you how this is done? (walks away)\n",
            "Phoebe: Okay, Im coming soon (motiles andounces this time) and I will! Thank you so much, God!\n",
            "Ross: So you figured after you went down there the way that toys said she would.\n",
            "Phoebe: And I just wanted to thank you guys again, umm, not really just the guys, y'know something that people are having trouble understanding, because all this time, they were coming from behind. And within twenty seconds, they were coming from behind. So it was finally time to call a spadere out.\n",
            "Chandler: Okay, we all started.\n",
            "Monica: Oh, thank you for coming again. (they all turn and look at her) Ugh, things are kinda weird right now.\n",
            "Phoebe: Hey! You need something?\n",
            "Rachel: Yeah! You're weird, you're weird... and I dont wanna make any kind of contact at all with anyone else!\n",
            "Monica: You're being weird all the time.\n",
            "Phoebe: No, its the other way around. I mean, this is what makes me wanna throw up.\n",
            "[Scene: Chandler and Joey's, Ross has finished calling the girl named Cathy.]\n",
            "Ross: Well. I garruloused yesterday about the other call. She was very nice and I was very glad we got along.\n",
            "Rachel: Oh, I am glad you did too. (she holds up a ring) Looks like hes got one for you.\n",
            "Ross: What? Yeah?\n",
            "Rachel: And shesshes my sister.\n",
            "Ross: Oh-ho, well. This day is much better than we thought it would be. I got the tickets. I got the tickets for myself!\n",
            "Chandler: Yeah, and for Cathy. Come on, I give you my all!\n",
            "Ross: All right, well you can just hand over all the tickets and you are done with that disgusting game of tug-of-war that your grandmother played on three different cellular telephone lines. (pause) Its no big deal.\n",
            "Chandler: All right, well have a nice day!\n",
            "Joey: Yeah!\n",
            "Chandler: Okay!\n",
            "All: Bye!\n",
            "Ross: Yeah?\n",
            "Rachel: Bye!\n",
            "(Ross turns around and sees the ring that Heihachi is giving him, and is shocked.)\n",
            "Ross: What?!\n",
            "Rachel: Oh my God!\n",
            "Ross: I know! (laughs) Wow! (They hug.)\n",
            "Chandler: Thats wonderful!\n",
            "Joey: Me too! (They hug again.)\n",
            "[Scene: A Street, Phoebe and Rachel are walking down the sidewalk.]\n",
            "Rachel: Pheebs, what are you gonna tell him?\n",
            "Phoebe: Oh, tell him I stole his keys. I used to work on the downing palaces of Roger E. Zelner cartoons (In a sexy voice.) \"Im Zelner, George Stephanopoulos, now I move in with a totally different guy!\"\n",
            "Rachel: You have a mouth with a girl!\n",
            "Phoebe: No, I tell him.\n",
            "Rachel: All right youre off with Roger.\n",
            "Phoebe: Yeah, were taking our apartment right now.\n",
            "Rachel: Oh, great! Hey, you go him, like in a heartbeat!\n",
            "Phoebe: Okay, thanks. Okay.\n",
            "Roger: (walking up) So hi!\n",
            "Rachel: Oh, all right! (They leave.) (to Phoebe\n",
            "\n",
            "[6100 | 20607.56] loss=0.15 avg=0.20\n",
            "[6200 | 22169.43] loss=0.14 avg=0.20\n",
            "Saving /content/drive/MyDrive/GPT2_Project/checkpoint/run1/model-6200\n",
            "[6300 | 23740.94] loss=0.14 avg=0.19\n",
            "[6400 | 25301.00] loss=0.15 avg=0.19\n",
            "Saving /content/drive/MyDrive/GPT2_Project/checkpoint/run1/model-6400\n",
            "[6500 | 26885.61] loss=0.14 avg=0.19\n",
            "======== SAMPLE 1 ========\n",
            " what! You're right! It was just a plan! All right, I'll see you in (She walks out.)\n",
            "Phoebe: Oh, my! (Sees Rachel walking in.) Oh wow! Hey-hey Rach!\n",
            "Rachel: Hi!\n",
            "Phoebe: Hey!\n",
            "Joey: Hey!\n",
            "Monica: Hey!\n",
            "Joey: What's going on?\n",
            "Phoebe: Ugh, we won, we're, we're gonna win! Oh God, we're just so, we're gonna pull at that wire now and now and then we're just goin' over there and over there.\n",
            "(Chandler is obviously enjoying the view.)\n",
            "Joey: Oh, Pheebs, don't forget, birds are nice. That's been stripped to the bone. Oh man! This is so exciting!\n",
            "(They hug.)\n",
            "Chandler: Oh yeah, no, you know what? You want me too? (Pause) Isn't this exciting?\n",
            "Phoebe: Yeah! Oh right!\n",
            "(They both fall back down onto the bed.)\n",
            "Phoebe: Oh my god! My leg is a turkey now! Oh, I'm so sorry!\n",
            "Rachel: Yeah okay, y'know what, I'm gonna scram! All right, about to go to Yemen!\n",
            "Chandler: Okay, Yemen. Okay.\n",
            "Phoebe: All right\n",
            "Chandler: All right, would you scram?\n",
            "Phoebe: Oh yeah, sure, no problem.\n",
            "(She just needs to hear Rosss next word to settle it.)\n",
            "Ross: What? No? Pheebs, I'm sorry, I just, I thought you liked me.\n",
            "Phoebe: Oh, well, I like you. I mean, you're mean, you're mean! But you're mean is not a mean thing...\n",
            "(The weights of Ross and Rachel are coming down.)\n",
            "Ross: All right, we're down one! All right, it's over! Dont scram!\n",
            "Rachel: I'd rather die in this mens lounge!\n",
            "Ross: Okay, all right, we're down one!\n",
            "Rachel: All right.\n",
            "(Ross scram! Phoebe just missed.)\n",
            "Phoebe: Oooooh!\n",
            "Rachel: Oh! We've been flight'd you said!\n",
            "Ross: What?!!! Phoebe!! Oh, come on! (Runs off.)\n",
            "Rachel: Uh-huh.\n",
            "Ending Credits\n",
            "[Scene: continued from earlier.]\n",
            "Chandler: Why does your mom keep calling me Cleverkeeper?\n",
            "Phoebe: Well, because her busy making love to this, is further down the tunnel than the rest of our stuff. Hey, why is my mom still calling me Cleverkeeper?\n",
            "End\n",
            "THE ONE WITH ALL THE RUGBY\n",
            "Part I Written by: Scott Silveri Part II Written by: David Crane & Marta Kauffman Parts I & II Transcribed by: Eric Aasen\n",
            "[Scene: Joey's apartment, Chandler and Joey are playing with a newly made wooden combat robot. They put the cover on the box Theodore in the corner on the floor, so that when the robot falls it won't jump out of the box.]\n",
            "Joey: Oh yeah. (Its ducks.)\n",
            "Chandler: Oh! I really like this cover, it's like a uh, game room, right down the middle you can see enemy moves.\n",
            "Joey: Yeah, no, seriously that's my favorite cover game is now.\n",
            "Chandler: Are you dumber than I am?\n",
            "Joey: Yeah.\n",
            "Chandler: Ooh, I like that for the robot.\n",
            "Joey: That's not smart. I like that for the box, yeah.\n",
            "[Scene: Central Perk, Phoebe is singing. Chandler, Joey, Ross, and Rachel are there.]\n",
            "Phoebe: (singing) Princess! Princess! My Darling! Now myDear Diary Boy, dream's over! (Hangs up.) Oh, I wish I could justbe happy, I wish I could just have a life, well not one, but a, but oh God, Im gonna have to get over your life now, already youre coloring my baby's clothesI dont know, its all coming on to me. OH MY GOD!\n",
            "Chandler: Actually youre on!\n",
            "Phoebe: But I just picked a hero because Im comfortable being taken down this high.\n",
            "Chandler: Okay thats great, but I have to go all the way to Nana's Dorm Room so she can hear my message.\n",
            "Joey: (initially worried, but gets over it) That doesnt wanna happen!\n",
            "Phoebe: Its gonna be okay?]: Yeah, I dont feel like I need to go.\n",
            "Joey: Absolutely\n",
            "\n",
            "[6600 | 28535.80] loss=0.17 avg=0.19\n",
            "Saving /content/drive/MyDrive/GPT2_Project/checkpoint/run1/model-6600\n",
            "[6700 | 30123.31] loss=0.18 avg=0.19\n",
            "[6800 | 31711.45] loss=0.14 avg=0.18\n",
            "Saving /content/drive/MyDrive/GPT2_Project/checkpoint/run1/model-6800\n"
          ],
          "name": "stdout"
        }
      ]
    },
    {
      "cell_type": "code",
      "metadata": {
        "id": "y8Hh7GsrwW0a"
      },
      "source": [
        ""
      ],
      "execution_count": null,
      "outputs": []
    },
    {
      "cell_type": "code",
      "metadata": {
        "id": "-OSLboKEuoqM",
        "colab": {
          "base_uri": "https://localhost:8080/"
        },
        "outputId": "7ddbb90b-8b2b-4012-fdee-3d3d5fd5e005"
      },
      "source": [
        "gpt2.generate(sess,\n",
        "              checkpoint_dir = '/content/drive/MyDrive/GPT2_Project/checkpoint',\n",
        "              model_dir='/content/drive/MyDrive/GPT2_Project/models',\n",
        "              #return_as_list=True,\n",
        "              length=250,\n",
        "              temperature=0.7,\n",
        "              prefix=\"Monica adopted a baby.\",\n",
        "              nsamples=1,\n",
        "              batch_size=1,\n",
        "              top_k=40\n",
        ")\n",
        "\n",
        "\n",
        "# def generate(sess, run_name='run1', checkpoint_dir='checkpoint', model_name=None, model_dir='models', \n",
        "#              sample_dir='samples', return_as_list=False,\n",
        "#              truncate=None, destination_path=None, sample_delim='=' * 20 + '\\n',\n",
        "#              prefix=None, seed=None, nsamples=1, batch_size=1, length=1023, temperature=0.7,\n",
        "#              top_k=0, top_p=0.0, include_prefix=True)"
      ],
      "execution_count": null,
      "outputs": [
        {
          "output_type": "stream",
          "text": [
            "Monica adopted a baby.\n",
            "Ross: Phoebe, you are so cool.\n",
            "[Scene: Central Perk]\n",
            "Joey: Hey, man, wenny-wenny more!\n",
            "Phoebe: Wait a minute! This is your favorite place, bitch!\n",
            "Joey: Hey! You don't have to do that every time!\n",
            "(Monica and Chandler enter)\n",
            "Chandler: Hey!\n",
            "Monica: Hey! We were so excited when we first got together. We were like-ably surprised. I mean, I know my brother's never gotten a kid, let alone a wife, never! But to have a husband who is like unclesed to me is so great. And not everyone can get that.\n",
            "Chandler: I can't even imagine how blessing this is.\n",
            "Monica: I know.\n",
            "(they hug)\n",
            "Monica: Me too.\n",
            "Phoebe: Me too.\n",
            "Joey: Thanks guys!\n",
            "Monica: Yeah, we should probably talk about Rachel.\n",
            "Chandler: Oh no-no-no! We should talk about the baby too, cause it's on hold.\n",
            "Phoebe: You're right.ica\n",
            "Ch\n"
          ],
          "name": "stdout"
        }
      ]
    },
    {
      "cell_type": "code",
      "metadata": {
        "id": "aQFMz2LIIgPu"
      },
      "source": [
        "generated_script = gpt2.generate(sess,\n",
        "              checkpoint_dir = '/content/drive/MyDrive/GPT2_Project/checkpoint',\n",
        "              model_dir='/content/drive/MyDrive/GPT2_Project/models',\n",
        "              #return_as_list=True,\n",
        "              length=250,\n",
        "              temperature=0.7,\n",
        "              prefix=\"Monica adopted a baby.\",\n",
        "              nsamples=1,\n",
        "              batch_size=1,\n",
        "              top_k=40,\n",
        "              return_as_list=True\n",
        ")[0]\n",
        "\n",
        "# generated_script = gpt2.generate(sess,\n",
        "#               length=350,\n",
        "#               temperature=0.7,\n",
        "#               prefix=\"Chandler and Monica finally decided to leave New York\",\n",
        "#               nsamples=1,\n",
        "#               batch_size=1,\n",
        "#               top_k=40,\n",
        "#               return_as_list=True\n",
        "# )[0]\n",
        "              "
      ],
      "execution_count": null,
      "outputs": []
    },
    {
      "cell_type": "code",
      "metadata": {
        "colab": {
          "base_uri": "https://localhost:8080/"
        },
        "id": "ETiijaGTTyAu",
        "outputId": "9511015c-2525-4b9a-90b4-36575d00ef92"
      },
      "source": [
        "type(generated_script)"
      ],
      "execution_count": null,
      "outputs": [
        {
          "output_type": "execute_result",
          "data": {
            "text/plain": [
              "str"
            ]
          },
          "metadata": {
            "tags": []
          },
          "execution_count": 13
        }
      ]
    },
    {
      "cell_type": "code",
      "metadata": {
        "colab": {
          "base_uri": "https://localhost:8080/"
        },
        "id": "jch_tW59fe2R",
        "outputId": "b5ea7cf8-7ede-4bd5-b5c4-2b1518210ca5"
      },
      "source": [
        "generated_script"
      ],
      "execution_count": null,
      "outputs": [
        {
          "output_type": "execute_result",
          "data": {
            "text/plain": [
              "[\"Monica adopted a baby. I love you. \\n(Monica leaves)\\nChandler: (to Ross) Well, I guess you're right. I guess you're right. \\nRoss: Thanks. (He goes to pat his chest, but his hand is on the counter and Chandler grabs him and kisses him.) \\nChandler: Still no response. \\nRachel: (entering) Hi. \\nAll: Hey! Happy birthday! \\nChandler: (hands her a coat) Happy birthday! \\nAll: Good to see you. \\nRachel: What? \\nChandler: Just a gift from my sister, and as my first birthday   event, I took the liberty of wrapping it all up, and as a thank you for which I now hold the   National Ballet, I thought it would be a good time to talk about my work. \\nRachel: (takes the gift) Oh, there's that song! I love rehearsing naked! \\nChandler: So, you're not supposed to talk about your work? \\nRachel: (answering it) Yes! Hell, yes! *I forget why, I'm trying\"]"
            ]
          },
          "metadata": {
            "tags": []
          },
          "execution_count": 17
        }
      ]
    },
    {
      "cell_type": "code",
      "metadata": {
        "id": "tJ0kaGFHHyR0",
        "colab": {
          "base_uri": "https://localhost:8080/"
        },
        "outputId": "deb1a695-82e0-47ad-aed1-fe34827b0335"
      },
      "source": [
        "!pip install -q gradio\n",
        "!pip install -q git+https://github.com/huggingface/transformers.git"
      ],
      "execution_count": null,
      "outputs": [
        {
          "output_type": "stream",
          "text": [
            "\u001b[K     |████████████████████████████████| 1.1MB 5.1MB/s \n",
            "\u001b[K     |████████████████████████████████| 215kB 18.4MB/s \n",
            "\u001b[K     |████████████████████████████████| 1.9MB 18.7MB/s \n",
            "\u001b[K     |████████████████████████████████| 962kB 44.1MB/s \n",
            "\u001b[K     |████████████████████████████████| 71kB 6.6MB/s \n",
            "\u001b[K     |████████████████████████████████| 3.2MB 45.8MB/s \n",
            "\u001b[?25h  Building wheel for flask-cachebuster (setup.py) ... \u001b[?25l\u001b[?25hdone\n",
            "  Building wheel for ffmpy (setup.py) ... \u001b[?25l\u001b[?25hdone\n",
            "  Installing build dependencies ... \u001b[?25l\u001b[?25hdone\n",
            "  Getting requirements to build wheel ... \u001b[?25l\u001b[?25hdone\n",
            "    Preparing wheel metadata ... \u001b[?25l\u001b[?25hdone\n",
            "\u001b[K     |████████████████████████████████| 901kB 6.5MB/s \n",
            "\u001b[K     |████████████████████████████████| 3.3MB 17.1MB/s \n",
            "\u001b[?25h  Building wheel for transformers (PEP 517) ... \u001b[?25l\u001b[?25hdone\n"
          ],
          "name": "stdout"
        }
      ]
    },
    {
      "cell_type": "code",
      "metadata": {
        "id": "X-zRjb-2K6IT"
      },
      "source": [
        "def generating_text(initial_text):\n",
        "    return gpt2.generate(sess,\n",
        "              checkpoint_dir = '/content/drive/MyDrive/GPT2_Project/checkpoint',\n",
        "              model_dir='/content/drive/MyDrive/GPT2_Project/models',\n",
        "              #return_as_list=True,\n",
        "              length=250,\n",
        "              temperature=0.7,\n",
        "              prefix=initial_text,\n",
        "              nsamples=1,\n",
        "              batch_size=1,\n",
        "              top_k=40,\n",
        "              return_as_list=True\n",
        ")[0]\n",
        "   \n",
        "\n",
        "\n",
        "\n"
      ],
      "execution_count": null,
      "outputs": []
    },
    {
      "cell_type": "code",
      "metadata": {
        "colab": {
          "base_uri": "https://localhost:8080/",
          "height": 638
        },
        "id": "W3C6-dRZE0Zl",
        "outputId": "f597a64d-c802-4b7a-8204-44140f85e779"
      },
      "source": [
        "def greet(name):\n",
        "    return \"Hello, my name is \" +  name\n",
        "\n",
        "iface = gr.Interface(greet,\"textbox\",\"textbox\")    \n",
        "iface.launch()"
      ],
      "execution_count": null,
      "outputs": [
        {
          "output_type": "stream",
          "text": [
            "Colab notebook detected. To show errors in colab notebook, set `debug=True` in `launch()`\n",
            "This share link will expire in 24 hours. If you need a permanent link, visit: https://gradio.app/introducing-hosted (NEW!)\n",
            "Running on External URL: https://58498.gradio.app\n",
            "Interface loading below...\n"
          ],
          "name": "stdout"
        },
        {
          "output_type": "display_data",
          "data": {
            "text/html": [
              "\n",
              "        <iframe\n",
              "            width=\"1000\"\n",
              "            height=\"500\"\n",
              "            src=\"https://58498.gradio.app\"\n",
              "            frameborder=\"0\"\n",
              "            allowfullscreen\n",
              "        ></iframe>\n",
              "        "
            ],
            "text/plain": [
              "<IPython.lib.display.IFrame at 0x7f2db12f8e50>"
            ]
          },
          "metadata": {
            "tags": []
          }
        },
        {
          "output_type": "execute_result",
          "data": {
            "text/plain": [
              "(<Flask 'gradio.networking'>,\n",
              " 'http://127.0.0.1:7873/',\n",
              " 'https://58498.gradio.app')"
            ]
          },
          "metadata": {
            "tags": []
          },
          "execution_count": 70
        }
      ]
    },
    {
      "cell_type": "code",
      "metadata": {
        "id": "onbFU9oZ7Mpd"
      },
      "source": [
        ""
      ],
      "execution_count": null,
      "outputs": []
    },
    {
      "cell_type": "code",
      "metadata": {
        "id": "6FkZsEiPJpg-"
      },
      "source": [
        "import gradio as gr\n",
        "import tensorflow as tf\n",
        "from transformers import TFGPT2LMHeadModel, GPT2Tokenizer"
      ],
      "execution_count": null,
      "outputs": []
    },
    {
      "cell_type": "code",
      "metadata": {
        "colab": {
          "base_uri": "https://localhost:8080/",
          "height": 655
        },
        "id": "8VGOpm20KQAW",
        "outputId": "a8019b51-b101-49fa-b9c6-f2f9bc692821"
      },
      "source": [
        "output_text = gr.outputs.Textbox()\n",
        "#gr.Interface(generating_text,\"textbox\", output_text, title=\"GPT2 Finetune\",\n",
        "             #description=\"I finetuned GPT-2 on Friends script.\").launch()\n",
        "gr.Interface(generating_text,\"text\", \"text\",capture_session=True).launch()"
      ],
      "execution_count": null,
      "outputs": [
        {
          "output_type": "stream",
          "text": [
            "Colab notebook detected. To show errors in colab notebook, set `debug=True` in `launch()`\n",
            "This share link will expire in 24 hours. If you need a permanent link, visit: https://gradio.app/introducing-hosted (NEW!)\n",
            "Running on External URL: https://54577.gradio.app\n",
            "Interface loading below...\n"
          ],
          "name": "stdout"
        },
        {
          "output_type": "display_data",
          "data": {
            "text/html": [
              "\n",
              "        <iframe\n",
              "            width=\"1000\"\n",
              "            height=\"500\"\n",
              "            src=\"https://54577.gradio.app\"\n",
              "            frameborder=\"0\"\n",
              "            allowfullscreen\n",
              "        ></iframe>\n",
              "        "
            ],
            "text/plain": [
              "<IPython.lib.display.IFrame at 0x7f90fd3c2210>"
            ]
          },
          "metadata": {
            "tags": []
          }
        },
        {
          "output_type": "stream",
          "text": [
            "Tip: Add interpretation to your model by simply adding `interpretation=\"default\"` to `Interface()`\n"
          ],
          "name": "stdout"
        },
        {
          "output_type": "execute_result",
          "data": {
            "text/plain": [
              "(<Flask 'gradio.networking'>,\n",
              " 'http://127.0.0.1:7861/',\n",
              " 'https://54577.gradio.app')"
            ]
          },
          "metadata": {
            "tags": []
          },
          "execution_count": 10
        }
      ]
    },
    {
      "cell_type": "code",
      "metadata": {
        "id": "-N1ojigfLsXW"
      },
      "source": [
        ""
      ],
      "execution_count": null,
      "outputs": []
    },
    {
      "cell_type": "code",
      "metadata": {
        "colab": {
          "base_uri": "https://localhost:8080/"
        },
        "id": "tnjGMmpI7OEh",
        "outputId": "7f19e9e6-acb4-4646-9bf3-591cb24a0c37"
      },
      "source": [
        "!zip -r /content/file.zip /content/\n"
      ],
      "execution_count": null,
      "outputs": [
        {
          "output_type": "stream",
          "text": [
            "updating: content/models/ (stored 0%)\n",
            "updating: content/models/124M/ (stored 0%)\n",
            "updating: content/models/124M/hparams.json (deflated 28%)\n",
            "updating: content/models/124M/model.ckpt.index (deflated 62%)\n",
            "updating: content/models/124M/checkpoint (deflated 42%)\n",
            "updating: content/models/124M/vocab.bpe (deflated 53%)\n",
            "updating: content/models/124M/model.ckpt.data-00000-of-00001 (deflated 7%)\n",
            "updating: content/models/124M/encoder.json (deflated 67%)\n",
            "updating: content/models/124M/model.ckpt.meta (deflated 91%)\n",
            "  adding: content/ (stored 0%)\n",
            "  adding: content/.config/ (stored 0%)\n",
            "  adding: content/.config/.last_update_check.json (deflated 23%)\n",
            "  adding: content/.config/.last_opt_in_prompt.yaml (stored 0%)\n",
            "  adding: content/.config/active_config (stored 0%)\n",
            "  adding: content/.config/config_sentinel (stored 0%)\n",
            "  adding: content/.config/.last_survey_prompt.yaml (stored 0%)\n",
            "  adding: content/.config/configurations/ (stored 0%)\n",
            "  adding: content/.config/configurations/config_default (deflated 15%)\n",
            "  adding: content/.config/logs/ (stored 0%)\n",
            "  adding: content/.config/logs/2021.05.06/ (stored 0%)\n",
            "  adding: content/.config/logs/2021.05.06/13.44.00.991142.log (deflated 54%)\n",
            "  adding: content/.config/logs/2021.05.06/13.43.23.909017.log (deflated 54%)\n",
            "  adding: content/.config/logs/2021.05.06/13.44.01.543195.log (deflated 53%)\n",
            "  adding: content/.config/logs/2021.05.06/13.43.04.692209.log (deflated 91%)\n",
            "  adding: content/.config/logs/2021.05.06/13.43.39.026092.log (deflated 86%)\n",
            "  adding: content/.config/logs/2021.05.06/13.43.44.620859.log (deflated 53%)\n",
            "  adding: content/.config/gce (stored 0%)\n",
            "  adding: content/Friends_Transcript.txt (deflated 65%)\n",
            "  adding: content/checkpoint/ (stored 0%)\n",
            "  adding: content/checkpoint/run1/ (stored 0%)\n",
            "  adding: content/checkpoint/run1/hparams.json (deflated 28%)\n",
            "  adding: content/checkpoint/run1/checkpoint (deflated 40%)\n",
            "  adding: content/checkpoint/run1/vocab.bpe (deflated 53%)\n",
            "  adding: content/checkpoint/run1/events.out.tfevents.1620639864.7dcee0992def (deflated 60%)\n",
            "  adding: content/checkpoint/run1/encoder.json (deflated 67%)\n",
            "  adding: content/checkpoint/run1/model-1500.index (deflated 62%)\n",
            "  adding: content/checkpoint/run1/model-1500.meta (deflated 91%)\n",
            "  adding: content/checkpoint/run1/model-1500.data-00000-of-00001 (deflated 7%)\n",
            "  adding: content/checkpoint/run1/counter (stored 0%)\n",
            "  adding: content/samples/ (stored 0%)\n",
            "  adding: content/samples/run1/ (stored 0%)\n",
            "  adding: content/samples/run1/samples-601 (deflated 58%)\n",
            "  adding: content/samples/run1/samples-801 (deflated 55%)\n",
            "  adding: content/samples/run1/samples-1201 (deflated 54%)\n",
            "  adding: content/samples/run1/samples-1001 (deflated 56%)\n",
            "  adding: content/samples/run1/samples-201 (deflated 57%)\n",
            "  adding: content/samples/run1/samples-1401 (deflated 53%)\n",
            "  adding: content/samples/run1/samples-401 (deflated 56%)\n",
            "  adding: content/flagged/ (stored 0%)\n",
            "  adding: content/sample_data/ (stored 0%)\n",
            "  adding: content/sample_data/anscombe.json (deflated 83%)\n",
            "  adding: content/sample_data/README.md (deflated 42%)\n",
            "  adding: content/sample_data/california_housing_test.csv (deflated 76%)\n",
            "  adding: content/sample_data/mnist_test.csv (deflated 88%)\n",
            "  adding: content/sample_data/california_housing_train.csv (deflated 79%)\n",
            "  adding: content/sample_data/mnist_train_small.csv (deflated 88%)\n"
          ],
          "name": "stdout"
        }
      ]
    },
    {
      "cell_type": "markdown",
      "metadata": {
        "id": "6omsGzbD52IL"
      },
      "source": [
        "# New Section"
      ]
    },
    {
      "cell_type": "code",
      "metadata": {
        "colab": {
          "base_uri": "https://localhost:8080/",
          "height": 17
        },
        "id": "dB8gYJAB7t5u",
        "outputId": "0dadb50a-ab7c-4b5b-d714-e3c8ab39be33"
      },
      "source": [
        "from google.colab import files\n",
        "files.download(\"/content/file.zip\")"
      ],
      "execution_count": null,
      "outputs": [
        {
          "output_type": "display_data",
          "data": {
            "application/javascript": [
              "\n",
              "    async function download(id, filename, size) {\n",
              "      if (!google.colab.kernel.accessAllowed) {\n",
              "        return;\n",
              "      }\n",
              "      const div = document.createElement('div');\n",
              "      const label = document.createElement('label');\n",
              "      label.textContent = `Downloading \"${filename}\": `;\n",
              "      div.appendChild(label);\n",
              "      const progress = document.createElement('progress');\n",
              "      progress.max = size;\n",
              "      div.appendChild(progress);\n",
              "      document.body.appendChild(div);\n",
              "\n",
              "      const buffers = [];\n",
              "      let downloaded = 0;\n",
              "\n",
              "      const channel = await google.colab.kernel.comms.open(id);\n",
              "      // Send a message to notify the kernel that we're ready.\n",
              "      channel.send({})\n",
              "\n",
              "      for await (const message of channel.messages) {\n",
              "        // Send a message to notify the kernel that we're ready.\n",
              "        channel.send({})\n",
              "        if (message.buffers) {\n",
              "          for (const buffer of message.buffers) {\n",
              "            buffers.push(buffer);\n",
              "            downloaded += buffer.byteLength;\n",
              "            progress.value = downloaded;\n",
              "          }\n",
              "        }\n",
              "      }\n",
              "      const blob = new Blob(buffers, {type: 'application/binary'});\n",
              "      const a = document.createElement('a');\n",
              "      a.href = window.URL.createObjectURL(blob);\n",
              "      a.download = filename;\n",
              "      div.appendChild(a);\n",
              "      a.click();\n",
              "      div.remove();\n",
              "    }\n",
              "  "
            ],
            "text/plain": [
              "<IPython.core.display.Javascript object>"
            ]
          },
          "metadata": {
            "tags": []
          }
        },
        {
          "output_type": "display_data",
          "data": {
            "application/javascript": [
              "download(\"download_e991501d-c0e5-4a87-a740-94631b399dd0\", \"file.zip\", 935045747)"
            ],
            "text/plain": [
              "<IPython.core.display.Javascript object>"
            ]
          },
          "metadata": {
            "tags": []
          }
        }
      ]
    },
    {
      "cell_type": "code",
      "metadata": {
        "colab": {
          "base_uri": "https://localhost:8080/"
        },
        "id": "-v8Li3WZ7weL",
        "outputId": "37502608-f0a8-4929-9df5-da1e80a168ef"
      },
      "source": [
        "from google.colab import drive\n",
        "drive.mount('/content/drive')"
      ],
      "execution_count": null,
      "outputs": [
        {
          "output_type": "stream",
          "text": [
            "Mounted at /content/drive\n"
          ],
          "name": "stdout"
        }
      ]
    },
    {
      "cell_type": "code",
      "metadata": {
        "id": "OBIwBGatC46g"
      },
      "source": [
        ""
      ],
      "execution_count": null,
      "outputs": []
    }
  ]
}